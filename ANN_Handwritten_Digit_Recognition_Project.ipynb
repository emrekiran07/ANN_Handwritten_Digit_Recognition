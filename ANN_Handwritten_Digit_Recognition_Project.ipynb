{
  "nbformat": 4,
  "nbformat_minor": 0,
  "metadata": {
    "colab": {
      "provenance": [],
      "authorship_tag": "ABX9TyMVQvm3ZdO9dpPG83WplRBd",
      "include_colab_link": true
    },
    "kernelspec": {
      "name": "python3",
      "display_name": "Python 3"
    },
    "language_info": {
      "name": "python"
    }
  },
  "cells": [
    {
      "cell_type": "markdown",
      "metadata": {
        "id": "view-in-github",
        "colab_type": "text"
      },
      "source": [
        "<a href=\"https://colab.research.google.com/github/emrekiran07/ANN_Handwritten_Digit_Recognition/blob/master/ANN_Handwritten_Digit_Recognition_Project.ipynb\" target=\"_parent\"><img src=\"https://colab.research.google.com/assets/colab-badge.svg\" alt=\"Open In Colab\"/></a>"
      ]
    },
    {
      "cell_type": "code",
      "execution_count": 2,
      "metadata": {
        "id": "Wccj2WYqKnbq"
      },
      "outputs": [],
      "source": [
        "#pip install tensorflow"
      ]
    },
    {
      "cell_type": "code",
      "source": [
        "import tensorflow as tf\n",
        "from tensorflow.keras.datasets import mnist\n",
        "from tensorflow.keras.models import load_model, Sequential\n",
        "from tensorflow.keras.layers import Dense, Flatten\n",
        "from tensorflow.keras.utils import to_categorical, plot_model\n",
        "\n",
        "import matplotlib.pyplot as plt\n",
        "import numpy as np"
      ],
      "metadata": {
        "id": "VoP2HNAdK8JA"
      },
      "execution_count": 3,
      "outputs": []
    },
    {
      "cell_type": "code",
      "source": [
        "#Loading the minst dataset\n",
        "(x_train,y_train), (x_test,y_test) = mnist.load_data()"
      ],
      "metadata": {
        "colab": {
          "base_uri": "https://localhost:8080/"
        },
        "id": "gKVF1odcMeh1",
        "outputId": "0022d7a7-e121-40c8-e4d2-b4ff429830be"
      },
      "execution_count": 4,
      "outputs": [
        {
          "output_type": "stream",
          "name": "stdout",
          "text": [
            "Downloading data from https://storage.googleapis.com/tensorflow/tf-keras-datasets/mnist.npz\n",
            "11490434/11490434 [==============================] - 1s 0us/step\n"
          ]
        }
      ]
    },
    {
      "cell_type": "code",
      "source": [
        "print(\"Train set shape: \", x_train.shape, y_train.shape)"
      ],
      "metadata": {
        "colab": {
          "base_uri": "https://localhost:8080/"
        },
        "id": "MIH-1wahMysh",
        "outputId": "788619df-b5e6-44c0-8f52-4a7f2f5b38f0"
      },
      "execution_count": 12,
      "outputs": [
        {
          "output_type": "stream",
          "name": "stdout",
          "text": [
            "Train set shape:  (60000, 28, 28) (60000,)\n"
          ]
        }
      ]
    },
    {
      "cell_type": "code",
      "source": [
        "print(\"Test set shape: \",x_test.shape, y_test.shape)"
      ],
      "metadata": {
        "colab": {
          "base_uri": "https://localhost:8080/"
        },
        "id": "8Zvzcjt8NY85",
        "outputId": "fb70f66b-5402-4707-e480-1da215f77154"
      },
      "execution_count": 13,
      "outputs": [
        {
          "output_type": "stream",
          "name": "stdout",
          "text": [
            "Test set shape:  (10000, 28, 28) (10000,)\n"
          ]
        }
      ]
    },
    {
      "cell_type": "code",
      "source": [
        "num_labels = len(np.unique(y_train))"
      ],
      "metadata": {
        "id": "RRiDp0_KNdMP"
      },
      "execution_count": 14,
      "outputs": []
    },
    {
      "cell_type": "code",
      "source": [
        "plt.figure(figsize =(10,10))\n",
        "for n in range(10):\n",
        "  ax = plt.subplot(5,5,n+1)\n",
        "  plt.imshow(x_train[n], cmap='gray')\n",
        "  plt.axis('off')"
      ],
      "metadata": {
        "colab": {
          "base_uri": "https://localhost:8080/",
          "height": 329
        },
        "id": "4MVignqJOCz9",
        "outputId": "0b952705-5c8e-4813-e50e-bc96cf516391"
      },
      "execution_count": 17,
      "outputs": [
        {
          "output_type": "display_data",
          "data": {
            "text/plain": [
              "<Figure size 1000x1000 with 10 Axes>"
            ],
            "image/png": "[encoded data removed]"
          },
          "metadata": {}
        }
      ]
    },
    {
      "cell_type": "markdown",
      "source": [
        "##Data Preperation"
      ],
      "metadata": {
        "id": "y0VO4d31esFs"
      }
    },
    {
      "cell_type": "code",
      "source": [
        "#OneHotEncoding\n",
        "y_train = to_categorical(y_train)\n",
        "y_test = to_categorical(y_test)"
      ],
      "metadata": {
        "id": "E1JO1reZeyOS"
      },
      "execution_count": 18,
      "outputs": []
    },
    {
      "cell_type": "markdown",
      "source": [
        "##Reshaping"
      ],
      "metadata": {
        "id": "KIFzGmbefXCb"
      }
    },
    {
      "cell_type": "code",
      "source": [
        "image_size = x_train.shape[1]"
      ],
      "metadata": {
        "id": "k17BEieMfTue"
      },
      "execution_count": 19,
      "outputs": []
    },
    {
      "cell_type": "code",
      "source": [
        "image_size"
      ],
      "metadata": {
        "colab": {
          "base_uri": "https://localhost:8080/"
        },
        "id": "XiBPRAUKfz5b",
        "outputId": "b5c8a447-006d-4994-f88e-8a122823ce31"
      },
      "execution_count": 20,
      "outputs": [
        {
          "output_type": "execute_result",
          "data": {
            "text/plain": [
              "28"
            ]
          },
          "metadata": {},
          "execution_count": 20
        }
      ]
    },
    {
      "cell_type": "code",
      "source": [
        "print(f\"Size of x_train:  {x_train.shape}\")\n",
        "print(f\"Size of x_test:  {x_test.shape}\")"
      ],
      "metadata": {
        "colab": {
          "base_uri": "https://localhost:8080/"
        },
        "id": "yTMDL0GIf1s5",
        "outputId": "84055497-2807-42e9-e256-372e86b871bd"
      },
      "execution_count": 23,
      "outputs": [
        {
          "output_type": "stream",
          "name": "stdout",
          "text": [
            "Size of x_train:  (60000, 28, 28)\n",
            "Size of x_test:  (10000, 28, 28)\n"
          ]
        }
      ]
    },
    {
      "cell_type": "code",
      "source": [
        "x_train = x_train.reshape(x_train.shape[0],28,28,1)\n",
        "x_test = x_test.reshape(x_test.shape[0],28,28,1)"
      ],
      "metadata": {
        "id": "rOgylr6yhHLH"
      },
      "execution_count": 24,
      "outputs": []
    },
    {
      "cell_type": "code",
      "source": [
        "print(f\"Size of x_train:  {x_train.shape}\")\n",
        "print(f\"Size of x_test:  {x_test.shape}\")"
      ],
      "metadata": {
        "colab": {
          "base_uri": "https://localhost:8080/"
        },
        "id": "IZ3cMIsdhiHZ",
        "outputId": "8090773c-50bf-4df3-ced8-5ad9cd6f2af1"
      },
      "execution_count": 25,
      "outputs": [
        {
          "output_type": "stream",
          "name": "stdout",
          "text": [
            "Size of x_train:  (60000, 28, 28, 1)\n",
            "Size of x_test:  (10000, 28, 28, 1)\n"
          ]
        }
      ]
    },
    {
      "cell_type": "markdown",
      "source": [
        "##Standardization"
      ],
      "metadata": {
        "id": "VYpvPW3iiTrN"
      }
    },
    {
      "cell_type": "code",
      "source": [
        "x_train = x_train.astype('float32') / 255\n",
        "x_test = x_test.astype('float32') / 255"
      ],
      "metadata": {
        "id": "ko6yhfJkhjwy"
      },
      "execution_count": 26,
      "outputs": []
    },
    {
      "cell_type": "markdown",
      "source": [
        "##Modelling"
      ],
      "metadata": {
        "id": "Oa4zzVl5jLMw"
      }
    },
    {
      "cell_type": "code",
      "source": [
        "from keras.api._v2.keras import activations\n",
        "model = tf.keras.Sequential([\n",
        "    Flatten(input_shape = (28,28,1)),\n",
        "    Dense(units = 128,activation='relu',name='layer1'),\n",
        "    Dense(units = num_labels, activation = 'softmax', name='output_layer')\n",
        "])"
      ],
      "metadata": {
        "id": "ht364ADvi12R"
      },
      "execution_count": 28,
      "outputs": []
    },
    {
      "cell_type": "code",
      "source": [
        "model.compile(loss='categorical_crossentropy',\n",
        "              optimizer='adam',\n",
        "              metrics=[tf.keras.metrics.Precision(),tf.keras.metrics.Recall(),\"accuracy\"])"
      ],
      "metadata": {
        "id": "Us-9WAkFnkkH"
      },
      "execution_count": 31,
      "outputs": []
    },
    {
      "cell_type": "code",
      "source": [
        "model.summary()"
      ],
      "metadata": {
        "colab": {
          "base_uri": "https://localhost:8080/"
        },
        "id": "NXNRZDv9sC19",
        "outputId": "51cf2ba9-b1c5-40df-9678-e4d1b7e7f3e6"
      },
      "execution_count": 32,
      "outputs": [
        {
          "output_type": "stream",
          "name": "stdout",
          "text": [
            "Model: \"sequential\"\n",
            "_________________________________________________________________\n",
            " Layer (type)                Output Shape              Param #   \n",
            "=================================================================\n",
            " flatten_1 (Flatten)         (None, 784)               0         \n",
            "                                                                 \n",
            " layer1 (Dense)              (None, 128)               100480    \n",
            "                                                                 \n",
            " output_layer (Dense)        (None, 10)                1290      \n",
            "                                                                 \n",
            "=================================================================\n",
            "Total params: 101,770\n",
            "Trainable params: 101,770\n",
            "Non-trainable params: 0\n",
            "_________________________________________________________________\n"
          ]
        }
      ]
    },
    {
      "cell_type": "code",
      "source": [
        "model.fit(x_train, y_train,   epochs=10, batch_size=128, validation_data=(x_test,y_test))"
      ],
      "metadata": {
        "colab": {
          "base_uri": "https://localhost:8080/"
        },
        "id": "hWTyruxQsylK",
        "outputId": "a727e027-965f-4abe-e559-036eddb08120"
      },
      "execution_count": 34,
      "outputs": [
        {
          "output_type": "stream",
          "name": "stdout",
          "text": [
            "Epoch 1/10\n",
            "469/469 [==============================] - 4s 9ms/step - loss: 0.0628 - precision: 0.9853 - recall_2: 0.9787 - accuracy: 0.9819 - val_loss: 0.0792 - val_precision: 0.9791 - val_recall_2: 0.9730 - val_accuracy: 0.9760\n",
            "Epoch 2/10\n",
            "469/469 [==============================] - 3s 6ms/step - loss: 0.0530 - precision: 0.9868 - recall_2: 0.9819 - accuracy: 0.9844 - val_loss: 0.0765 - val_precision: 0.9808 - val_recall_2: 0.9753 - val_accuracy: 0.9784\n",
            "Epoch 3/10\n",
            "469/469 [==============================] - 3s 6ms/step - loss: 0.0441 - precision: 0.9893 - recall_2: 0.9853 - accuracy: 0.9872 - val_loss: 0.0758 - val_precision: 0.9804 - val_recall_2: 0.9756 - val_accuracy: 0.9775\n",
            "Epoch 4/10\n",
            "469/469 [==============================] - 3s 7ms/step - loss: 0.0384 - precision: 0.9906 - recall_2: 0.9874 - accuracy: 0.9888 - val_loss: 0.0760 - val_precision: 0.9802 - val_recall_2: 0.9758 - val_accuracy: 0.9776\n",
            "Epoch 5/10\n",
            "469/469 [==============================] - 4s 8ms/step - loss: 0.0318 - precision: 0.9927 - recall_2: 0.9898 - accuracy: 0.9914 - val_loss: 0.0717 - val_precision: 0.9814 - val_recall_2: 0.9778 - val_accuracy: 0.9792\n",
            "Epoch 6/10\n",
            "469/469 [==============================] - 3s 6ms/step - loss: 0.0268 - precision: 0.9942 - recall_2: 0.9920 - accuracy: 0.9930 - val_loss: 0.0828 - val_precision: 0.9783 - val_recall_2: 0.9747 - val_accuracy: 0.9760\n",
            "Epoch 7/10\n",
            "469/469 [==============================] - 3s 6ms/step - loss: 0.0239 - precision: 0.9942 - recall_2: 0.9923 - accuracy: 0.9933 - val_loss: 0.0766 - val_precision: 0.9801 - val_recall_2: 0.9762 - val_accuracy: 0.9776\n",
            "Epoch 8/10\n",
            "469/469 [==============================] - 3s 6ms/step - loss: 0.0198 - precision: 0.9960 - recall_2: 0.9942 - accuracy: 0.9951 - val_loss: 0.0760 - val_precision: 0.9809 - val_recall_2: 0.9777 - val_accuracy: 0.9792\n",
            "Epoch 9/10\n",
            "469/469 [==============================] - 4s 8ms/step - loss: 0.0166 - precision: 0.9969 - recall_2: 0.9958 - accuracy: 0.9965 - val_loss: 0.0785 - val_precision: 0.9803 - val_recall_2: 0.9781 - val_accuracy: 0.9791\n",
            "Epoch 10/10\n",
            "469/469 [==============================] - 3s 6ms/step - loss: 0.0150 - precision: 0.9969 - recall_2: 0.9962 - accuracy: 0.9965 - val_loss: 0.0784 - val_precision: 0.9814 - val_recall_2: 0.9785 - val_accuracy: 0.9795\n"
          ]
        },
        {
          "output_type": "execute_result",
          "data": {
            "text/plain": [
              "<keras.callbacks.History at 0x7fdbef988f10>"
            ]
          },
          "metadata": {},
          "execution_count": 34
        }
      ]
    },
    {
      "cell_type": "markdown",
      "source": [
        "##Evaulation"
      ],
      "metadata": {
        "id": "8aWcm9rPwT0F"
      }
    },
    {
      "cell_type": "code",
      "source": [
        "history = model.fit(x_train, y_train,   epochs=10, batch_size=128, validation_data=(x_test,y_test))"
      ],
      "metadata": {
        "colab": {
          "base_uri": "https://localhost:8080/"
        },
        "id": "PmV_G00lu3yA",
        "outputId": "a937725b-9602-4e0f-fdce-0f016bb58143"
      },
      "execution_count": 35,
      "outputs": [
        {
          "output_type": "stream",
          "name": "stdout",
          "text": [
            "Epoch 1/10\n",
            "469/469 [==============================] - 3s 6ms/step - loss: 0.0122 - precision: 0.9979 - recall_2: 0.9972 - accuracy: 0.9976 - val_loss: 0.0761 - val_precision: 0.9811 - val_recall_2: 0.9788 - val_accuracy: 0.9794\n",
            "Epoch 2/10\n",
            "469/469 [==============================] - 3s 7ms/step - loss: 0.0105 - precision: 0.9983 - recall_2: 0.9977 - accuracy: 0.9980 - val_loss: 0.0750 - val_precision: 0.9805 - val_recall_2: 0.9783 - val_accuracy: 0.9792\n",
            "Epoch 3/10\n",
            "469/469 [==============================] - 3s 6ms/step - loss: 0.0086 - precision: 0.9988 - recall_2: 0.9984 - accuracy: 0.9985 - val_loss: 0.0777 - val_precision: 0.9813 - val_recall_2: 0.9795 - val_accuracy: 0.9800\n",
            "Epoch 4/10\n",
            "469/469 [==============================] - 3s 5ms/step - loss: 0.0078 - precision: 0.9989 - recall_2: 0.9986 - accuracy: 0.9988 - val_loss: 0.0841 - val_precision: 0.9792 - val_recall_2: 0.9773 - val_accuracy: 0.9778\n",
            "Epoch 5/10\n",
            "469/469 [==============================] - 3s 5ms/step - loss: 0.0070 - precision: 0.9989 - recall_2: 0.9987 - accuracy: 0.9988 - val_loss: 0.0791 - val_precision: 0.9802 - val_recall_2: 0.9792 - val_accuracy: 0.9794\n",
            "Epoch 6/10\n",
            "469/469 [==============================] - 4s 8ms/step - loss: 0.0050 - precision: 0.9995 - recall_2: 0.9994 - accuracy: 0.9994 - val_loss: 0.0867 - val_precision: 0.9800 - val_recall_2: 0.9781 - val_accuracy: 0.9790\n",
            "Epoch 7/10\n",
            "469/469 [==============================] - 2s 5ms/step - loss: 0.0061 - precision: 0.9990 - recall_2: 0.9988 - accuracy: 0.9989 - val_loss: 0.0822 - val_precision: 0.9808 - val_recall_2: 0.9792 - val_accuracy: 0.9799\n",
            "Epoch 8/10\n",
            "469/469 [==============================] - 2s 5ms/step - loss: 0.0040 - precision: 0.9996 - recall_2: 0.9995 - accuracy: 0.9995 - val_loss: 0.0876 - val_precision: 0.9806 - val_recall_2: 0.9793 - val_accuracy: 0.9794\n",
            "Epoch 9/10\n",
            "469/469 [==============================] - 2s 5ms/step - loss: 0.0055 - precision: 0.9989 - recall_2: 0.9987 - accuracy: 0.9989 - val_loss: 0.0902 - val_precision: 0.9808 - val_recall_2: 0.9796 - val_accuracy: 0.9801\n",
            "Epoch 10/10\n",
            "469/469 [==============================] - 2s 5ms/step - loss: 0.0055 - precision: 0.9987 - recall_2: 0.9986 - accuracy: 0.9986 - val_loss: 0.0865 - val_precision: 0.9813 - val_recall_2: 0.9793 - val_accuracy: 0.9801\n"
          ]
        }
      ]
    },
    {
      "cell_type": "code",
      "source": [
        "###########################\n",
        "# Accuracy and Loss Graphs\n",
        "###########################\n",
        "\n",
        "#------ Graph 1 Accuracy -------\n",
        "\n",
        "plt.figure(figsize=(20,5))\n",
        "plt.subplot(1,2,1)\n",
        "plt.plot(history.history[\"accuracy\"], color='b', label='Training Accuracy')\n",
        "plt.plot(history.history[\"val_accuracy\"], color='r', label='Validation Accuracy')\n",
        "plt.legend(loc='lower right')\n",
        "plt.xlabel('Epoch', fontsize=16)\n",
        "plt.ylabel('Accuracy', fontsize = 16)\n",
        "plt.ylim([min(plt.ylim()),1])\n",
        "plt.title('Training and Test Success Graph', fontsize=16)\n",
        "\n",
        "#------ Graph 2 Loss -------\n",
        "plt.subplot(1,2,2)\n",
        "plt.plot(history.history[\"loss\"], color='b', label='Training Loss')\n",
        "plt.plot(history.history[\"val_loss\"], color='r', label='Validation Loss')\n",
        "plt.legend(loc='upper right')\n",
        "plt.xlabel('Epoch', fontsize=16)\n",
        "plt.ylabel('Loss', fontsize = 16)\n",
        "plt.ylim([min(plt.ylim()),1])\n",
        "plt.title('Training and Test Loss Graph', fontsize=16)\n",
        "plt.show()"
      ],
      "metadata": {
        "colab": {
          "base_uri": "https://localhost:8080/",
          "height": 478
        },
        "id": "sRGL1IySwZ6D",
        "outputId": "a6b55eca-0bb9-45ca-a902-361d179005c5"
      },
      "execution_count": 36,
      "outputs": [
        {
          "output_type": "display_data",
          "data": {
            "text/plain": [
              "<Figure size 2000x500 with 2 Axes>"
            ],
            "image/png": "[encoded data removed]"
          },
          "metadata": {}
        }
      ]
    },
    {
      "cell_type": "code",
      "source": [
        "loss, precision, recall, acc = model.evaluate(x_test, y_test, verbose = False)\n",
        "print(\"\\nTest Accuracy: %.1f%%\" % (100.0*acc))\n",
        "print(\"\\nTest Loss: %.1f%%\" % (100.0*loss))\n",
        "print(\"\\nTest Precision: %.1f%%\" % (100.0*precision))\n",
        "print(\"\\nTest Recall: %.1f%%\" % (100.0*recall))"
      ],
      "metadata": {
        "colab": {
          "base_uri": "https://localhost:8080/"
        },
        "id": "6M8teqegzA1d",
        "outputId": "018d87f5-b5b7-4643-dad5-eb0d65492924"
      },
      "execution_count": 38,
      "outputs": [
        {
          "output_type": "stream",
          "name": "stdout",
          "text": [
            "\n",
            "Test Accuracy: 98.0%\n",
            "\n",
            "Test Loss: 8.7%\n",
            "\n",
            "Test Precision: 98.1%\n",
            "\n",
            "Test Recall: 97.9%\n"
          ]
        }
      ]
    },
    {
      "cell_type": "markdown",
      "source": [
        "## Saving the model"
      ],
      "metadata": {
        "id": "nGyWusTn3bSU"
      }
    },
    {
      "cell_type": "code",
      "source": [
        "model.save('mnist_model.h5')"
      ],
      "metadata": {
        "id": "Y2VIRkaG0en3"
      },
      "execution_count": 39,
      "outputs": []
    },
    {
      "cell_type": "code",
      "source": [
        "import random"
      ],
      "metadata": {
        "id": "A_WpnP293ksY"
      },
      "execution_count": 40,
      "outputs": []
    },
    {
      "cell_type": "code",
      "source": [
        "random = random.randint(0, x_test.shape[0])"
      ],
      "metadata": {
        "id": "_W0JX-3P4Cfv"
      },
      "execution_count": 41,
      "outputs": []
    },
    {
      "cell_type": "code",
      "source": [
        "random"
      ],
      "metadata": {
        "colab": {
          "base_uri": "https://localhost:8080/"
        },
        "id": "amvJlFzh4IdR",
        "outputId": "c4a88486-41c3-49c8-fb04-b0519fba287d"
      },
      "execution_count": 42,
      "outputs": [
        {
          "output_type": "execute_result",
          "data": {
            "text/plain": [
              "6898"
            ]
          },
          "metadata": {},
          "execution_count": 42
        }
      ]
    },
    {
      "cell_type": "code",
      "source": [
        "test_img = x_test[random]"
      ],
      "metadata": {
        "id": "eZ9r2PFi4KF1"
      },
      "execution_count": 43,
      "outputs": []
    },
    {
      "cell_type": "code",
      "source": [
        "y_test[random]"
      ],
      "metadata": {
        "colab": {
          "base_uri": "https://localhost:8080/"
        },
        "id": "ksUnwNNW4OqL",
        "outputId": "0bc2deca-0b5d-4a4e-9b13-3bd1bb78f802"
      },
      "execution_count": 44,
      "outputs": [
        {
          "output_type": "execute_result",
          "data": {
            "text/plain": [
              "array([0., 0., 0., 0., 0., 0., 0., 0., 1., 0.], dtype=float32)"
            ]
          },
          "metadata": {},
          "execution_count": 44
        }
      ]
    },
    {
      "cell_type": "code",
      "source": [
        "plt.imshow(test_img.reshape(28,28), cmap='gray');"
      ],
      "metadata": {
        "colab": {
          "base_uri": "https://localhost:8080/",
          "height": 430
        },
        "id": "sid7dWcw4RU0",
        "outputId": "697c04b6-abbb-47eb-e961-eddde9f64742"
      },
      "execution_count": 46,
      "outputs": [
        {
          "output_type": "display_data",
          "data": {
            "text/plain": [
              "<Figure size 640x480 with 1 Axes>"
            ],
            "image/png": "[encoded data removed]"
          },
          "metadata": {}
        }
      ]
    },
    {
      "cell_type": "code",
      "source": [
        "test_data = x_test[random].reshape(1,28,28,1)"
      ],
      "metadata": {
        "id": "6LWAIKCJ4fFA"
      },
      "execution_count": 47,
      "outputs": []
    },
    {
      "cell_type": "code",
      "source": [
        "probability = model.predict(test_data)"
      ],
      "metadata": {
        "colab": {
          "base_uri": "https://localhost:8080/"
        },
        "id": "HAKnEbip5NqH",
        "outputId": "d26e8c8d-4743-40ed-9080-1fc14752492f"
      },
      "execution_count": 48,
      "outputs": [
        {
          "output_type": "stream",
          "name": "stdout",
          "text": [
            "1/1 [==============================] - 0s 117ms/step\n"
          ]
        }
      ]
    },
    {
      "cell_type": "code",
      "source": [
        "probability"
      ],
      "metadata": {
        "colab": {
          "base_uri": "https://localhost:8080/"
        },
        "id": "i4u_rXyW5So6",
        "outputId": "2628b3f4-ea62-4c05-acf6-393288687467"
      },
      "execution_count": 49,
      "outputs": [
        {
          "output_type": "execute_result",
          "data": {
            "text/plain": [
              "array([[1.1318911e-08, 2.7380757e-08, 3.7577291e-05, 6.5214099e-06,\n",
              "        4.8722125e-14, 6.3699163e-06, 1.6847574e-08, 2.4429248e-06,\n",
              "        9.9993527e-01, 1.1829317e-05]], dtype=float32)"
            ]
          },
          "metadata": {},
          "execution_count": 49
        }
      ]
    },
    {
      "cell_type": "code",
      "source": [
        "predicted_class = np.argmax(probability)"
      ],
      "metadata": {
        "id": "zuhfl70T5VxY"
      },
      "execution_count": 50,
      "outputs": []
    },
    {
      "cell_type": "code",
      "source": [
        "predicted_class"
      ],
      "metadata": {
        "colab": {
          "base_uri": "https://localhost:8080/"
        },
        "id": "MaVpoQxU5eZq",
        "outputId": "6cc9e7be-809a-4bf1-bd8e-b9edb86bfacd"
      },
      "execution_count": 51,
      "outputs": [
        {
          "output_type": "execute_result",
          "data": {
            "text/plain": [
              "8"
            ]
          },
          "metadata": {},
          "execution_count": 51
        }
      ]
    }
  ]
}